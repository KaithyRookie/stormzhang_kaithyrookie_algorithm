{
 "cells": [
  {
   "cell_type": "code",
   "execution_count": null,
   "metadata": {},
   "outputs": [],
   "source": [
    "\"\"\"\n",
    "26. 删除有序数组中的重复项\n",
    "\"\"\"\n",
    "class Solution:\n",
    "    def removeDuplicates(self, nums) -> int:\n",
    "        if not nums:\n",
    "            return 0\n",
    "        slow,fast = 0, 0\n",
    "        length = len(nums)\n",
    "        while fast < length:\n",
    "            print(\"current slow: %s, fast: %s\" % (slow, fast))\n",
    "            if nums[slow] != nums[fast]:\n",
    "                slow += 1\n",
    "                nums[slow] = nums[fast]\n",
    "            \n",
    "            fast += 1\n",
    "        return slow+1\n",
    "    \n",
    "    def best_removeDuplicates(self, nums) -> int:\n",
    "        length = 0\n",
    "        if len(nums) == 0: return length\n",
    "        for i in range(1,len(nums)):\n",
    "            if nums[length] < nums[i]:\n",
    "                length += 1\n",
    "                nums[length] = nums[i]\n",
    "        return length+1"
   ]
  },
  {
   "cell_type": "code",
   "execution_count": null,
   "metadata": {},
   "outputs": [],
   "source": [
    "solution = Solution()\n",
    "nums = [1, 1, 2, 2]\n",
    "print(solution.removeDuplicates(nums))"
   ]
  },
  {
   "cell_type": "code",
   "execution_count": null,
   "metadata": {},
   "outputs": [],
   "source": [
    "\"\"\"\n",
    "27. 移除元素\n",
    "\"\"\"\n",
    "from typing import List\n",
    "class Solution:\n",
    "    def removeElement(self, nums: List[int], val: int) -> int:\n",
    "        if not nums:\n",
    "            return 0\n",
    "        \n",
    "        slow, fast, length = 0, 0, len(nums)\n",
    "        while fast < length:\n",
    "            if nums[fast] != val:\n",
    "                nums[slow] = nums[fast]\n",
    "                slow += 1\n",
    "            fast += 1\n",
    "        \n",
    "        return slow\n",
    "    \n",
    "    def best_removeElement(self, nums: List[int], val: int) -> int:\n",
    "        while val in nums: nums.remove(val)\n",
    "        \n",
    "        return len(nums)\n",
    "    "
   ]
  },
  {
   "cell_type": "code",
   "execution_count": null,
   "metadata": {},
   "outputs": [],
   "source": [
    "solution = Solution()\n",
    "nums = [1, 1, 2, 2]\n",
    "val = 2\n",
    "print(solution.best_removeElement(nums, val))\n",
    "print(nums)"
   ]
  },
  {
   "cell_type": "code",
   "execution_count": null,
   "metadata": {},
   "outputs": [],
   "source": [
    "\"\"\"\n",
    "283. 移动零\n",
    "\"\"\"\n",
    "class Solution:\n",
    "    def moveZeroes(self, nums: List[int]) -> None:\n",
    "        \"\"\"\n",
    "        Do not return anything, modify nums in-place instead.\n",
    "        \"\"\"\n",
    "        index = 0\n",
    "        length = len(nums)\n",
    "        if length == 0: return \n",
    "        while index < length and nums[index] != 0:\n",
    "            index += 1\n",
    "            \n",
    "        for i in range(index+1,len(nums)):\n",
    "            if nums[i] != 0:\n",
    "                nums[index] = nums[i]\n",
    "                nums[i]=0\n",
    "                index += 1\n",
    "        return nums\n",
    "    \n",
    "    def best_moveZeroes(self, nums: List[int]) -> None:\n",
    "        slow = 0\n",
    "        for fast in range(len(nums)):\n",
    "            if nums[fast] != 0 and nums[slow] == 0:\n",
    "                nums[slow], nums[fast] = nums[fast], nums[slow]\n",
    "\n",
    "            # wait while we find a non-zero element to\n",
    "            # swap with you\n",
    "            if nums[slow] != 0:\n",
    "                slow += 1"
   ]
  },
  {
   "cell_type": "code",
   "execution_count": null,
   "metadata": {},
   "outputs": [],
   "source": [
    "solution = Solution()\n",
    "nums = [0,1,13,3,12]\n",
    "\n",
    "print(solution.moveZeroes(nums))"
   ]
  },
  {
   "cell_type": "code",
   "execution_count": null,
   "metadata": {},
   "outputs": [],
   "source": [
    "\"\"\"\n",
    "83. 删除排序链表中的重复元素\n",
    "\"\"\"\n",
    "# Definition for singly-linked list.\n",
    "\n",
    "class ListNode:\n",
    "    def __init__(self, val=0, next=None):\n",
    "        self.val = val\n",
    "        self.next = next\n",
    "class Solution:\n",
    "    def deleteDuplicates(self, head: ListNode) -> ListNode:\n",
    "        if not head: return head\n",
    "        slow, fast = head, head.next\n",
    "        \n",
    "        while fast:\n",
    "            if slow.val != fast.val:\n",
    "                slow.next = fast\n",
    "                slow = slow.next\n",
    "            elif fast.next is None:\n",
    "                slow.next = None\n",
    "            \n",
    "            fast = fast.next\n",
    "        return head\n",
    "    \n",
    "    def best_deleteDuplicates(self, head: ListNode) -> ListNode:\n",
    "        cur=head\n",
    "        while cur:\n",
    "            while cur.next and cur.next.val==cur.val:\n",
    "                cur.next=cur.next.next\n",
    "            cur=cur.next\n",
    "        return head"
   ]
  },
  {
   "cell_type": "code",
   "execution_count": null,
   "metadata": {},
   "outputs": [],
   "source": [
    "head = ListNode(1)\n",
    "head.next = ListNode(1)\n",
    "head.next.next = ListNode(2)\n",
    "head.next.next.next = ListNode(2)\n",
    "solution = Solution()\n",
    "result = solution.deleteDuplicates(head)\n",
    "while result:\n",
    "    print(result.val)\n",
    "    result = result.next"
   ]
  },
  {
   "cell_type": "code",
   "execution_count": null,
   "metadata": {},
   "outputs": [],
   "source": []
  }
 ],
 "metadata": {
  "kernelspec": {
   "display_name": "Python 3",
   "language": "python",
   "name": "python3"
  },
  "language_info": {
   "codemirror_mode": {
    "name": "ipython",
    "version": 3
   },
   "file_extension": ".py",
   "mimetype": "text/x-python",
   "name": "python",
   "nbconvert_exporter": "python",
   "pygments_lexer": "ipython3",
   "version": "3.7.3"
  }
 },
 "nbformat": 4,
 "nbformat_minor": 4
}
